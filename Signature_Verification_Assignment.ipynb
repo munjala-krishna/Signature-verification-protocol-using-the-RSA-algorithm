{
 "cells": [
  {
   "cell_type": "markdown",
   "id": "377751b7",
   "metadata": {
    "id": "377751b7"
   },
   "source": [
    "# <font color=teal> Task -1 Understand RSA Algorithm for Key encryption and Decryption <font>"
   ]
  },
  {
   "cell_type": "code",
   "execution_count": 1,
   "id": "f026818e",
   "metadata": {
    "id": "f026818e",
    "outputId": "dc704e94-d0e0-43d8-c7cd-03c3156ff1e7"
   },
   "outputs": [
    {
     "name": "stdout",
     "output_type": "stream",
     "text": [
      "Requirement already satisfied: pycryptodome in c:\\users\\munjala hari krishna\\anaconda3\\lib\\site-packages (3.20.0)\n"
     ]
    },
    {
     "name": "stderr",
     "output_type": "stream",
     "text": [
      "WARNING: Ignoring invalid distribution -ensorflow-intel (c:\\users\\munjala hari krishna\\anaconda3\\lib\\site-packages)\n",
      "WARNING: Ignoring invalid distribution -rotobuf (c:\\users\\munjala hari krishna\\anaconda3\\lib\\site-packages)\n",
      "WARNING: Error parsing requirements for pandas: [Errno 2] No such file or directory: 'c:\\\\users\\\\munjala hari krishna\\\\anaconda3\\\\lib\\\\site-packages\\\\pandas-2.1.1.dist-info\\\\METADATA'\n",
      "WARNING: Error parsing requirements for querystring-parser: [Errno 2] No such file or directory: 'c:\\\\users\\\\munjala hari krishna\\\\anaconda3\\\\lib\\\\site-packages\\\\querystring_parser-1.2.4.dist-info\\\\METADATA'\n",
      "WARNING: Ignoring invalid distribution -ensorflow-intel (c:\\users\\munjala hari krishna\\anaconda3\\lib\\site-packages)\n",
      "WARNING: Ignoring invalid distribution -rotobuf (c:\\users\\munjala hari krishna\\anaconda3\\lib\\site-packages)\n",
      "\n",
      "[notice] A new release of pip is available: 23.2.1 -> 24.0\n",
      "[notice] To update, run: python.exe -m pip install --upgrade pip\n"
     ]
    }
   ],
   "source": [
    "!pip install pycryptodome"
   ]
  },
  {
   "cell_type": "code",
   "execution_count": 2,
   "id": "e69e7ff5",
   "metadata": {
    "id": "e69e7ff5"
   },
   "outputs": [],
   "source": [
    "import Crypto\n",
    "from Crypto.PublicKey import RSA\n",
    "from Crypto import Random\n",
    "import ast\n",
    "from Crypto.Cipher import PKCS1_OAEP"
   ]
  },
  {
   "cell_type": "markdown",
   "id": "57416507",
   "metadata": {
    "id": "57416507"
   },
   "source": [
    "## Key Generation"
   ]
  },
  {
   "cell_type": "code",
   "execution_count": 3,
   "id": "2b1f745a",
   "metadata": {
    "id": "2b1f745a"
   },
   "outputs": [],
   "source": [
    "#generate pub and priv key\n",
    "random_generator = Random.new().read\n",
    "key = RSA.generate(1024, random_generator) \n",
    "private_key = key.export_key()\n",
    "public_key = key.publickey().exportKey()"
   ]
  },
  {
   "cell_type": "markdown",
   "id": "a5fc5160",
   "metadata": {
    "id": "a5fc5160"
   },
   "source": [
    "## Encrypt a message using the public key generated above"
   ]
  },
  {
   "cell_type": "code",
   "execution_count": 4,
   "id": "40a46c33",
   "metadata": {
    "id": "40a46c33",
    "outputId": "07c1d015-0031-4d0b-f001-a24b1bbbc021"
   },
   "outputs": [
    {
     "name": "stdout",
     "output_type": "stream",
     "text": [
      "Text for RSA encryption and decryption:I am encrypting this message\n",
      "your encrypted text is : b'u=N\\xbe\\x18%k\\x92\\xd6\\x8c\\xd7\\xa8\\xc7`\\xba^\\x83\\xa1\\x89\\x9f\\xbf\\xb8\\xe9\\xe6\\xa8;\\x03\\xa653\\x82\\x16_W\\xde\\xd5\\xd5\\xb7\\x7fh\\x17\\xe3!\\x8e\\x05\\xdf\\xa8\\xf2r\\xc6\\xc8\\xe2U\\xb9\\x10O\\xdc3M\\x91\\xfcE\\x19\\x9e`\\x0be\\x8a\\xdd\\xf8.\\t\\xe0\\xbe\\x8e\\xc6\\xf0\\x00\\xdc\\x9c\\xdd\\x80\\n\\xb5\\xc5k\\x9b\\x8c\\xc5\\x86Q4#\\xac\\xce\\x80\\x1fC\\xcd\\x89p`\\xb6\\xd2\\x15_\\xe8\\x1e\\nL\\x81>\\x8f$\\x07_|\\x9a\\x8d\\xab{\\x13\\xbc6\\x1aws\\xe5'\n"
     ]
    }
   ],
   "source": [
    "message = input('Text for RSA encryption and decryption:')\n",
    "message = str.encode(message)\n",
    "\n",
    "rsa_public_key = RSA.importKey(public_key)\n",
    "rsa_public_key = PKCS1_OAEP.new(rsa_public_key)\n",
    "\n",
    "encrypted = rsa_public_key.encrypt(message)\n",
    "\n",
    "print('your encrypted text is : {}'.format(encrypted))"
   ]
  },
  {
   "cell_type": "markdown",
   "id": "00bf172f",
   "metadata": {
    "id": "00bf172f"
   },
   "source": [
    "## Decryption the message using the private key generated above"
   ]
  },
  {
   "cell_type": "code",
   "execution_count": 5,
   "id": "07d82b17",
   "metadata": {
    "id": "07d82b17",
    "outputId": "7f2aa8dd-4fa7-4605-ae6f-cbd4fe26304d"
   },
   "outputs": [
    {
     "name": "stdout",
     "output_type": "stream",
     "text": [
      "decrypted message is:  b'I am encrypting this message'\n"
     ]
    }
   ],
   "source": [
    "#decrypted code below\n",
    "\n",
    "rsa_private_key = RSA.importKey(private_key)\n",
    "rsa_private_key = PKCS1_OAEP.new(rsa_private_key)\n",
    "decrypted = rsa_private_key.decrypt(ast.literal_eval(str(encrypted)))\n",
    "\n",
    "print('decrypted message is: ', decrypted)"
   ]
  },
  {
   "cell_type": "markdown",
   "id": "e9237dff",
   "metadata": {
    "id": "e9237dff"
   },
   "source": [
    "#  <font color=teal> Task-2: RSA For Signature Verification</font>"
   ]
  },
  {
   "cell_type": "markdown",
   "id": "398bf8a3",
   "metadata": {
    "id": "398bf8a3"
   },
   "source": [
    "### Introduction:\n",
    "In this assignment, we will aim to develop a signature verification protocol using the RSA algorithm.\n",
    "The RSA public-key cryptosystem provides a digital signature scheme (sign + verify), based on the math of the modular exponentiations and discrete logarithms and the computational difficulty of the RSA problem.\n",
    "\n",
    "Steps for RSA sign/verify algorithm:\n",
    "\n",
    "- Key Generation:- The RSA key-pair consists of: public key {n, e} & private key {n, d}. The numbers n and d are typically big integers, while e is small. By definition, the RSA key-pairs has the following property: \n",
    "(m^e)^d ≡(m^d)^e  ≡m(modn),  for all m in the range [0...n)\n",
    "\n",
    "- RSA Sign:- sign a message ‘msg’ with the private key components {n,d}\n",
    "    - Calculate the message hash: h = hash(msg)\n",
    "    - Encrypt h to calculate the signature: s = h^d (mod n)\n",
    "\n",
    "- RSA Verify Signature:- Verify a signature s for the message ‘msg’ with the public key {n, e}\n",
    "    - Calculate the message hash: h = hash(msg)\n",
    "    - Decrypt the signature: h′  =s^e (mod n)\n",
    "    - Compare h with h' to find whether the signature is valid or not\n"
   ]
  },
  {
   "cell_type": "markdown",
   "id": "fda92d75",
   "metadata": {
    "id": "fda92d75"
   },
   "source": [
    "## <font color=blue>Part 1: Generate private key and the public key for signature verification </font>"
   ]
  },
  {
   "cell_type": "code",
   "execution_count": 6,
   "id": "9df694b5",
   "metadata": {
    "id": "9df694b5"
   },
   "outputs": [],
   "source": [
    "from Crypto.PublicKey import RSA"
   ]
  },
  {
   "cell_type": "code",
   "execution_count": 7,
   "id": "164e0d5d",
   "metadata": {
    "id": "164e0d5d"
   },
   "outputs": [],
   "source": [
    "## generating the 2048 byte key.\n",
    "key = RSA.generate(2048)"
   ]
  },
  {
   "cell_type": "code",
   "execution_count": 8,
   "id": "rnyQ-mgMjoQP",
   "metadata": {
    "id": "rnyQ-mgMjoQP"
   },
   "outputs": [],
   "source": [
    "## write the private and public key to a file\n",
    "private_key = key.export_key()\n",
    "public_key = key.publickey().exportKey()"
   ]
  },
  {
   "cell_type": "code",
   "execution_count": 9,
   "id": "ac59d6a3",
   "metadata": {},
   "outputs": [],
   "source": [
    "f = open('private_key.txt', 'w')\n",
    "f.write(str(private_key))\n",
    "f.close()"
   ]
  },
  {
   "cell_type": "code",
   "execution_count": 10,
   "id": "f49375e2",
   "metadata": {},
   "outputs": [],
   "source": [
    "f = open('public_key.txt', 'w')\n",
    "f.write(str(public_key))\n",
    "f.close()"
   ]
  },
  {
   "cell_type": "markdown",
   "id": "fb230983",
   "metadata": {
    "id": "fb230983"
   },
   "source": [
    "## <font color=blue>Part 2: Sign the message using the above private key </font>"
   ]
  },
  {
   "cell_type": "code",
   "execution_count": 11,
   "id": "77f500ae",
   "metadata": {
    "id": "77f500ae"
   },
   "outputs": [],
   "source": [
    "from Crypto.Signature import pkcs1_15\n",
    "from Crypto.Hash import SHA256"
   ]
  },
  {
   "cell_type": "code",
   "execution_count": 12,
   "id": "a6066c84",
   "metadata": {
    "id": "a6066c84"
   },
   "outputs": [],
   "source": [
    "## Define the msg\n",
    "message = b'Hey this is me, lets meet at cafe at 6pm'"
   ]
  },
  {
   "cell_type": "code",
   "execution_count": 13,
   "id": "ucyX-GK6kfLu",
   "metadata": {
    "id": "ucyX-GK6kfLu"
   },
   "outputs": [],
   "source": [
    "## Import the private key\n",
    "rsa_private_key = RSA.importKey(private_key)"
   ]
  },
  {
   "cell_type": "code",
   "execution_count": 14,
   "id": "q6wn04Mxjsoy",
   "metadata": {
    "id": "q6wn04Mxjsoy"
   },
   "outputs": [],
   "source": [
    "## Create a hash of the message\n",
    "hash = SHA256.new(message)"
   ]
  },
  {
   "cell_type": "code",
   "execution_count": 15,
   "id": "PzFBwv60j2Cs",
   "metadata": {
    "id": "PzFBwv60j2Cs"
   },
   "outputs": [],
   "source": [
    "## sign the message\n",
    "signature = pkcs1_15.new(rsa_private_key).sign(hash)"
   ]
  },
  {
   "cell_type": "code",
   "execution_count": 16,
   "id": "dd39ab8b",
   "metadata": {
    "id": "dd39ab8b"
   },
   "outputs": [],
   "source": [
    "## save the signature and message in a file (Optional)\n",
    "f = open('signature.txt', 'w')\n",
    "f.write(str(signature))\n",
    "f.close()\n",
    "\n",
    "f= open('message.txt', 'w')\n",
    "f.write(str(message))\n",
    "f.close()"
   ]
  },
  {
   "cell_type": "markdown",
   "id": "d8a7cfb0",
   "metadata": {
    "id": "d8a7cfb0"
   },
   "source": [
    "##### Signature is created using the private key by the sender, signature and the message is sent to the receiver."
   ]
  },
  {
   "cell_type": "markdown",
   "id": "18618a88",
   "metadata": {
    "id": "18618a88"
   },
   "source": [
    "## <font color=blue>Part 3: Verifying the above signature ‘sign’ for the message ‘msg’ using the above public key </font>"
   ]
  },
  {
   "cell_type": "markdown",
   "id": "f1d6956a",
   "metadata": {
    "id": "f1d6956a"
   },
   "source": [
    "#### Now the receiver has received the signature and the message from the sender, lets verify the signature."
   ]
  },
  {
   "cell_type": "code",
   "execution_count": 17,
   "id": "a8704f7c",
   "metadata": {
    "id": "a8704f7c"
   },
   "outputs": [],
   "source": [
    "## read the public key\n",
    "rsa_public_key = RSA.importKey(public_key)"
   ]
  },
  {
   "cell_type": "code",
   "execution_count": 18,
   "id": "29bdc3b5",
   "metadata": {},
   "outputs": [],
   "source": [
    "## read/load the received message and the received signature.\n",
    "\n",
    "# f = open('signature.txt', 'r')\n",
    "# rec_signature = f.read()\n",
    "# f.close()\n",
    "# print(rec_signature)\n",
    "rec_signature = signature\n",
    "\n",
    "# f = open('message.txt', 'r')\n",
    "# rec_message = f.read()\n",
    "# f.close()\n",
    "rec_message = message"
   ]
  },
  {
   "cell_type": "code",
   "execution_count": 19,
   "id": "a5218e32",
   "metadata": {
    "id": "a5218e32"
   },
   "outputs": [],
   "source": [
    "## Create a hash of the message(received message)\n",
    "hash1 = SHA256.new(rec_message)"
   ]
  },
  {
   "cell_type": "markdown",
   "id": "7464f774",
   "metadata": {
    "id": "7464f774"
   },
   "source": [
    "#### Comparing hash1 and the hash. If 'hash1' (from received message) is same as the 'hash' (from sent message), we will get to know that sign is original."
   ]
  },
  {
   "cell_type": "code",
   "execution_count": 20,
   "id": "-GxL8kTLkzx7",
   "metadata": {
    "id": "-GxL8kTLkzx7"
   },
   "outputs": [
    {
     "name": "stdout",
     "output_type": "stream",
     "text": [
      "The signature is valid. Messages are Unchanged\n"
     ]
    }
   ],
   "source": [
    "try:\n",
    "    pkcs1_15.new(rsa_public_key).verify(hash1, rec_signature)\n",
    "    print('The signature is valid. Messages are Unchanged')\n",
    "except (ValueError, TypeError):\n",
    "    print('Alert!! The signature is not valid. Messages are changed')"
   ]
  },
  {
   "cell_type": "markdown",
   "id": "cebdfefb",
   "metadata": {
    "id": "cebdfefb"
   },
   "source": [
    "### <font color=royalblue>Part 4: Make some changes to the message or signature and then verify the signature</font>\n"
   ]
  },
  {
   "cell_type": "code",
   "execution_count": 21,
   "id": "sDQvOeWNk4k0",
   "metadata": {
    "id": "sDQvOeWNk4k0"
   },
   "outputs": [],
   "source": [
    "## read the public key\n",
    "rsa_public_key = RSA.importKey(public_key)"
   ]
  },
  {
   "cell_type": "code",
   "execution_count": 22,
   "id": "DKWbswf2k6AS",
   "metadata": {
    "id": "DKWbswf2k6AS"
   },
   "outputs": [],
   "source": [
    "## read the received message and the received signature\n",
    "\n",
    "rec_message2 = str.encode('I am not encrypting this message') # Here the message is changed"
   ]
  },
  {
   "cell_type": "code",
   "execution_count": 23,
   "id": "pW_KzcEtk8Xp",
   "metadata": {
    "id": "pW_KzcEtk8Xp"
   },
   "outputs": [],
   "source": [
    "## Create a hash of the message(received message)\n",
    "hash2 = SHA256.new(rec_message2) "
   ]
  },
  {
   "cell_type": "code",
   "execution_count": 24,
   "id": "0ffb0c5f",
   "metadata": {},
   "outputs": [
    {
     "name": "stdout",
     "output_type": "stream",
     "text": [
      "Alert!! The signature is not valid. Messages are changed\n"
     ]
    }
   ],
   "source": [
    "## Compare and verify\n",
    "try:\n",
    "    pkcs1_15.new(rsa_public_key).verify(hash2, rec_signature)\n",
    "    print('The signature is valid. Messages are unchanged')\n",
    "except(ValueError, TypeError):\n",
    "    print('Alert!! The signature is not valid. Messages are changed')"
   ]
  }
 ],
 "metadata": {
  "colab": {
   "provenance": []
  },
  "kernelspec": {
   "display_name": "Python 3 (ipykernel)",
   "language": "python",
   "name": "python3"
  },
  "language_info": {
   "codemirror_mode": {
    "name": "ipython",
    "version": 3
   },
   "file_extension": ".py",
   "mimetype": "text/x-python",
   "name": "python",
   "nbconvert_exporter": "python",
   "pygments_lexer": "ipython3",
   "version": "3.10.13"
  }
 },
 "nbformat": 4,
 "nbformat_minor": 5
}
